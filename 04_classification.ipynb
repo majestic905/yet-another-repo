{
 "cells": [
  {
   "cell_type": "markdown",
   "metadata": {},
   "source": [
    "* Dataset: http://ai.stanford.edu/~amaas/data/sentiment/\n",
    "* Target: pos/neg folders\n",
    "* Metric: AUC-ROC\n",
    "* Libraries: scikit‑learn + NLTK\n",
    "\n",
    "\n",
    "* Text preprocessing – 3\n",
    "    - Removing stop words\n",
    "    - Stemming / Lemmatization\n",
    "    - Bag of words / TF-IDF\n",
    "    - N-grams\n",
    "* Words importance - 2\n",
    "* Hyperparameters tuning – 1\n",
    "* Compare performance of models: SGDClassifier; SVM; Naive Bayes - 2 "
   ]
  },
  {
   "cell_type": "code",
   "execution_count": 3,
   "metadata": {},
   "outputs": [],
   "source": [
    "import numpy as np\n",
    "import pandas as pd\n",
    "import seaborn as sns\n",
    "from matplotlib import pyplot as plt\n",
    "from sklearn.linear_model import SGDClassifier\n",
    "from sklearn import svm, naive_bayes as bayes"
   ]
  },
  {
   "cell_type": "markdown",
   "metadata": {},
   "source": [
    "* импортнуть в csv или json (tar.gz открывается (только открывается!) три минуты на весьма неслабом ноуте)\n",
    "* text preprocessing\n",
    "* feature engineering\n",
    "* words importance?\n",
    "* pipeline with sgd/svm/bayes + gridsearch"
   ]
  },
  {
   "cell_type": "code",
   "execution_count": null,
   "metadata": {},
   "outputs": [],
   "source": []
  }
 ],
 "metadata": {
  "kernelspec": {
   "display_name": "Python 3",
   "language": "python",
   "name": "python3"
  },
  "language_info": {
   "codemirror_mode": {
    "name": "ipython",
    "version": 3
   },
   "file_extension": ".py",
   "mimetype": "text/x-python",
   "name": "python",
   "nbconvert_exporter": "python",
   "pygments_lexer": "ipython3",
   "version": "3.5.2"
  }
 },
 "nbformat": 4,
 "nbformat_minor": 2
}
