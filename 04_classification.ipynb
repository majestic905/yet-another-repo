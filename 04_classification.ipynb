{
 "cells": [
  {
   "cell_type": "markdown",
   "metadata": {},
   "source": [
    "Classification 2:\n",
    "* Dataset: http://ai.stanford.edu/~amaas/data/sentiment/\n",
    "* Target: pos/neg folders\n",
    "* Metric: AUC-ROC\n",
    "* Libraries: scikit‑learn + NLTK\n",
    "* Text preprocessing – 3\n",
    "    - Removing stop words\n",
    "    - Stemming / Lemmatization\n",
    "    - Bag of words / TF-IDF\n",
    "    - N-grams\n",
    "* Words importance - 2\n",
    "* Hyperparameters tuning – 1\n",
    "* Compare performance of models: SGDClassifier; SVM; Naive Bayes - 2"
   ]
  },
  {
   "cell_type": "markdown",
   "metadata": {},
   "source": [
    "Некий план:\n",
    "* baseline + добавить самописный классификатор, содержащий внутри три\n",
    "* заценить оригинальную статью\n",
    "* text preprocessing\n",
    "* feature engineering\n",
    "* words importance?\n",
    "* pipeline with sgd/svm/bayes + gridsearch"
   ]
  },
  {
   "cell_type": "markdown",
   "metadata": {},
   "source": [
    "Прочитаем README:\n",
    "* по 25к файлов на train/test, по 12.5к файлов на pos/neg\n",
    "* pos – рейтинг >= 7, neg – рейтинг <= 4\n",
    "* в название файлов включен рейтинг\n",
    "* есть отдельный файл со ссылками на imdb, т.е. известно, какому фильму принадлежат рейтинги\n",
    "* но толку от этого предположительно нуль, потому что фильмы в train/test не повторяются\n",
    "* есть авторский bag of words в libsvm формате"
   ]
  },
  {
   "cell_type": "markdown",
   "metadata": {},
   "source": [
    "Заменим тысячи файлов двумя train.json + test.json, куда включим собственно отзывы, таргет, рейтинг, и идентификатор фильма"
   ]
  },
  {
   "cell_type": "code",
   "execution_count": 1,
   "metadata": {},
   "outputs": [],
   "source": [
    "import os\n",
    "import json\n",
    "from tqdm import tnrange, tqdm_notebook"
   ]
  },
  {
   "cell_type": "code",
   "execution_count": 2,
   "metadata": {},
   "outputs": [],
   "source": [
    "def sample2json(sample):\n",
    "    if sample not in ['train', 'test']:\n",
    "        raise ValueError\n",
    "    \n",
    "    data = []\n",
    "    for target in tqdm_notebook(['pos', 'neg'], desc='target', leave=False):\n",
    "        with open('data/imdb/%s/urls_%s.txt' % (sample, target)) as file:\n",
    "            urls = file.readlines()\n",
    "\n",
    "        for index, filename in tqdm_notebook(enumerate(os.listdir('data/imdb/%s/%s' % (sample, target))), desc='file', leave=False):\n",
    "            file_id, rating = filename.split('_')\n",
    "            rating = rating[:rating.index('.')]\n",
    "            \n",
    "            with open('data/imdb/%s/%s/%s' % (sample, target, filename)) as file:\n",
    "                data.append({\n",
    "                    'file_id': file_id,\n",
    "                    'rating': int(rating),\n",
    "                    'review': file.read(),\n",
    "                    'film_id': urls[index][28:35],\n",
    "                    'target': target\n",
    "                })\n",
    "    \n",
    "        with open('data/imdb/%s.json' % sample, 'w') as file:\n",
    "            json.dump(data, file, indent=4)"
   ]
  },
  {
   "cell_type": "code",
   "execution_count": 3,
   "metadata": {},
   "outputs": [
    {
     "data": {
      "application/vnd.jupyter.widget-view+json": {
       "model_id": "01d604614d1d4a7480487ee23a9c9128",
       "version_major": 2,
       "version_minor": 0
      },
      "text/plain": [
       "HBox(children=(IntProgress(value=0, description='sample', max=2), HTML(value='')))"
      ]
     },
     "metadata": {},
     "output_type": "display_data"
    },
    {
     "name": "stdout",
     "output_type": "stream",
     "text": [
      "\n"
     ]
    }
   ],
   "source": [
    "for sample in tqdm_notebook(['train', 'test'], desc='sample'):\n",
    "    if not os.path.exists('data/imdb/%s.json' % sample):\n",
    "        sample2json(sample)"
   ]
  },
  {
   "cell_type": "markdown",
   "metadata": {},
   "source": [
    "Чудно, займемся делом. Импортируем библиотеки"
   ]
  },
  {
   "cell_type": "code",
   "execution_count": 4,
   "metadata": {},
   "outputs": [],
   "source": [
    "import numpy as np\n",
    "import pandas as pd\n",
    "import seaborn as sns\n",
    "from matplotlib import pyplot as plt\n",
    "from sklearn.svm import *\n",
    "from sklearn.naive_bayes import MultinomialNB\n",
    "from sklearn.linear_model import SGDClassifier\n",
    "from sklearn.feature_extraction.text import CountVectorizer, TfidfTransformer\n",
    "from sklearn.metrics import classification_report, roc_auc_score, roc_curve, precision_score, recall_score\n",
    "from sklearn.pipeline import Pipeline"
   ]
  },
  {
   "cell_type": "markdown",
   "metadata": {},
   "source": [
    "А также чудесные jsonы"
   ]
  },
  {
   "cell_type": "code",
   "execution_count": 5,
   "metadata": {},
   "outputs": [],
   "source": [
    "train = json.load(open('data/imdb/train.json'))\n",
    "test = json.load(open('data/imdb/test.json'))\n",
    "X_train = [item['review'] for item in train]\n",
    "y_train = [int(item['target'] == 'pos') for item in train]\n",
    "X_test = [item['review'] for item in test]\n",
    "y_test = [int(item['target'] == 'pos') for item in test]"
   ]
  },
  {
   "cell_type": "markdown",
   "metadata": {},
   "source": [
    "Построим [baseline](http://scikit-learn.org/stable/tutorial/text_analytics/working_with_text_data.html)"
   ]
  },
  {
   "cell_type": "code",
   "execution_count": 6,
   "metadata": {},
   "outputs": [],
   "source": [
    "text_clf = Pipeline([\n",
    "    ('vect', CountVectorizer()),\n",
    "    ('tfidf', TfidfTransformer()),\n",
    "    ('clf', MultinomialNB()),\n",
    "])"
   ]
  },
  {
   "cell_type": "code",
   "execution_count": 7,
   "metadata": {},
   "outputs": [
    {
     "data": {
      "text/plain": [
       "Pipeline(memory=None,\n",
       "     steps=[('vect', CountVectorizer(analyzer='word', binary=False, decode_error='strict',\n",
       "        dtype=<class 'numpy.int64'>, encoding='utf-8', input='content',\n",
       "        lowercase=True, max_df=1.0, max_features=None, min_df=1,\n",
       "        ngram_range=(1, 1), preprocessor=None, stop_words=None,\n",
       "        strip...inear_tf=False, use_idf=True)), ('clf', MultinomialNB(alpha=1.0, class_prior=None, fit_prior=True))])"
      ]
     },
     "execution_count": 7,
     "metadata": {},
     "output_type": "execute_result"
    }
   ],
   "source": [
    "text_clf.fit(X_train, y_train)"
   ]
  },
  {
   "cell_type": "markdown",
   "metadata": {},
   "source": [
    "Функция строит ROC, считает AUC, precision и recall"
   ]
  },
  {
   "cell_type": "code",
   "execution_count": 8,
   "metadata": {},
   "outputs": [],
   "source": [
    "def evaluate(y_true, y_pred_proba):\n",
    "    y_pred = [int(item[0] <= item[1]) for item in y_pred_proba]\n",
    "#     print(classification_report(y_true, y_pred))\n",
    "\n",
    "    precision = precision_score(y_true, y_pred)\n",
    "    recall = recall_score(y_true, y_pred)\n",
    "    auc = roc_auc_score(y_true, y_pred_proba[:, 1])\n",
    "    \n",
    "    fpr, tpr, thresholds = roc_curve(y_true, y_pred_proba[:, 1])\n",
    "    curve_roc = np.array([fpr, tpr])\n",
    "    plt.plot(fpr, tpr, label='ROC curve: AUC=%0.3f' % auc, color='darkorange', lw=1)\n",
    "    plt.title('precision: %0.3f, recall: %0.3f' % (precision, recall))\n",
    "    plt.xlabel('FPR')\n",
    "    plt.ylabel('TPR')\n",
    "    plt.ylim([0.0, 1.02])\n",
    "    plt.xlim([0.0, 1.0])\n",
    "    plt.grid(True)\n",
    "    plt.legend(loc=\"lower right\")\n",
    "#     return auc "
   ]
  },
  {
   "cell_type": "code",
   "execution_count": 9,
   "metadata": {},
   "outputs": [
    {
     "data": {
      "image/png": "[encoded data removed]",
      "text/plain": [
       "<Figure size 432x288 with 1 Axes>"
      ]
     },
     "metadata": {},
     "output_type": "display_data"
    }
   ],
   "source": [
    "evaluate(y_test, text_clf.predict_proba(X_test))"
   ]
  },
  {
   "cell_type": "markdown",
   "metadata": {},
   "source": [
    "Получили нижнюю оценку на метрики. Пойдем дальше и добавим к наивному байесу SGD и SVM. Воспользуемся [вспомогательным классом](http://www.davidsbatista.net/blog/2018/02/23/model_optimization/) (добавить описание)"
   ]
  },
  {
   "cell_type": "code",
   "execution_count": null,
   "metadata": {},
   "outputs": [],
   "source": []
  }
 ],
 "metadata": {
  "kernelspec": {
   "display_name": "Python 3",
   "language": "python",
   "name": "python3"
  },
  "language_info": {
   "codemirror_mode": {
    "name": "ipython",
    "version": 3
   },
   "file_extension": ".py",
   "mimetype": "text/x-python",
   "name": "python",
   "nbconvert_exporter": "python",
   "pygments_lexer": "ipython3",
   "version": "3.5.2"
  }
 },
 "nbformat": 4,
 "nbformat_minor": 2
}
