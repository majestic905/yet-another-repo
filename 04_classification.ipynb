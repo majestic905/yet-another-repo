{
 "cells": [
  {
   "cell_type": "markdown",
   "metadata": {},
   "source": [
    "Classification 2:\n",
    "* Dataset: http://ai.stanford.edu/~amaas/data/sentiment/\n",
    "* Target: pos/neg folders\n",
    "* Metric: AUC-ROC\n",
    "* Libraries: scikit‑learn + NLTK\n",
    "* Text preprocessing – 3\n",
    "    - Removing stop words\n",
    "    - Stemming / Lemmatization\n",
    "    - Bag of words / TF-IDF\n",
    "    - N-grams\n",
    "* Words importance - 2\n",
    "* Hyperparameters tuning – 1\n",
    "* Compare performance of models: SGDClassifier; SVM; Naive Bayes - 2"
   ]
  },
  {
   "cell_type": "markdown",
   "metadata": {},
   "source": [
    "Некий план:\n",
    "* придумать как в gs вычислять три метрики сразу\n",
    "* придумать как в gs вместо кросс-валидации использовать тестовую выборку?\n",
    "* заценить оригинальную статью\n",
    "* text preprocessing\n",
    "* feature engineering\n",
    "* words importance?\n",
    "* pipeline with sgd/svm/bayes + gridsearch"
   ]
  },
  {
   "cell_type": "markdown",
   "metadata": {},
   "source": [
    "Прочитаем README:\n",
    "* по 25к файлов на train/test, по 12.5к файлов на pos/neg\n",
    "* pos – рейтинг >= 7, neg – рейтинг <= 4\n",
    "* в название файлов включен рейтинг\n",
    "* есть отдельный файл со ссылками на imdb, т.е. известно, какому фильму принадлежат рейтинги\n",
    "* но толку от этого предположительно нуль, потому что фильмы в train/test не повторяются\n",
    "* есть авторский bag of words в libsvm формате"
   ]
  },
  {
   "cell_type": "markdown",
   "metadata": {},
   "source": [
    "Заменим тысячи файлов двумя train.json + test.json, куда включим собственно отзывы, таргет, рейтинг, и идентификатор фильма"
   ]
  },
  {
   "cell_type": "code",
   "execution_count": 1,
   "metadata": {},
   "outputs": [],
   "source": [
    "import os\n",
    "import json\n",
    "from tqdm import tnrange, tqdm_notebook"
   ]
  },
  {
   "cell_type": "code",
   "execution_count": 2,
   "metadata": {},
   "outputs": [],
   "source": [
    "def sample2json(sample):\n",
    "    if sample not in ['train', 'test']:\n",
    "        raise ValueError\n",
    "    \n",
    "    data = []\n",
    "    for target in tqdm_notebook(['pos', 'neg'], desc='target', leave=False):\n",
    "        with open('data/imdb/%s/urls_%s.txt' % (sample, target)) as file:\n",
    "            urls = file.readlines()\n",
    "\n",
    "        for index, filename in tqdm_notebook(enumerate(os.listdir('data/imdb/%s/%s' % (sample, target))), desc='file', leave=False):\n",
    "            file_id, rating = filename.split('_')\n",
    "            rating = rating[:rating.index('.')]\n",
    "            \n",
    "            with open('data/imdb/%s/%s/%s' % (sample, target, filename)) as file:\n",
    "                data.append({\n",
    "                    'file_id': file_id,\n",
    "                    'rating': int(rating),\n",
    "                    'review': file.read(),\n",
    "                    'film_id': urls[index][28:35],\n",
    "                    'target': target\n",
    "                })\n",
    "    \n",
    "        with open('data/imdb/%s.json' % sample, 'w') as file:\n",
    "            json.dump(data, file, indent=4)"
   ]
  },
  {
   "cell_type": "code",
   "execution_count": 3,
   "metadata": {},
   "outputs": [
    {
     "data": {
      "application/vnd.jupyter.widget-view+json": {
       "model_id": "b7e4a0e79fd84512b0b17c6176b0e8ae",
       "version_major": 2,
       "version_minor": 0
      },
      "text/plain": [
       "HBox(children=(IntProgress(value=0, description='sample', max=2), HTML(value='')))"
      ]
     },
     "metadata": {},
     "output_type": "display_data"
    },
    {
     "name": "stdout",
     "output_type": "stream",
     "text": [
      "\n"
     ]
    }
   ],
   "source": [
    "for sample in tqdm_notebook(['train', 'test'], desc='sample'):\n",
    "    if not os.path.exists('data/imdb/%s.json' % sample):\n",
    "        sample2json(sample)"
   ]
  },
  {
   "cell_type": "markdown",
   "metadata": {},
   "source": [
    "Чудно, займемся делом. Импортируем библиотеки"
   ]
  },
  {
   "cell_type": "code",
   "execution_count": 7,
   "metadata": {},
   "outputs": [],
   "source": [
    "import numpy as np\n",
    "import pandas as pd\n",
    "import seaborn as sns\n",
    "from matplotlib import pyplot as plt\n",
    "from sklearn.svm import LinearSVC\n",
    "from sklearn.naive_bayes import MultinomialNB\n",
    "from sklearn.linear_model import SGDClassifier\n",
    "from sklearn.feature_extraction.text import CountVectorizer, TfidfTransformer\n",
    "from sklearn.metrics import classification_report, roc_auc_score, roc_curve, precision_score, recall_score\n",
    "from sklearn.pipeline import Pipeline\n",
    "from sklearn.model_selection import GridSearchCV\n",
    "from pipelinehelper import PipelineHelper"
   ]
  },
  {
   "cell_type": "markdown",
   "metadata": {},
   "source": [
    "А также чудесные jsonы"
   ]
  },
  {
   "cell_type": "code",
   "execution_count": 5,
   "metadata": {},
   "outputs": [],
   "source": [
    "train = json.load(open('data/imdb/train.json'))\n",
    "test = json.load(open('data/imdb/test.json'))\n",
    "X_train = [item['review'] for item in train]\n",
    "y_train = [int(item['target'] == 'pos') for item in train]\n",
    "X_test = [item['review'] for item in test]\n",
    "y_test = [int(item['target'] == 'pos') for item in test]"
   ]
  },
  {
   "cell_type": "markdown",
   "metadata": {},
   "source": [
    "Построим [baseline](http://scikit-learn.org/stable/tutorial/text_analytics/working_with_text_data.html). Однако для этого используем в некоем смысле универсальный Pipeline, используя на последнем шаге три разных классификатора при помощи [pipelinehelper](https://github.com/bmurauer/pipelinehelper). ~~также см [класс](http://www.davidsbatista.net/blog/2018/02/23/model_optimization/)~~"
   ]
  },
  {
   "cell_type": "code",
   "execution_count": 8,
   "metadata": {},
   "outputs": [
    {
     "name": "stdout",
     "output_type": "stream",
     "text": [
      "Fitting 3 folds for each of 3 candidates, totalling 9 fits\n"
     ]
    },
    {
     "name": "stderr",
     "output_type": "stream",
     "text": [
      "[Parallel(n_jobs=-1)]: Using backend LokyBackend with 8 concurrent workers.\n",
      "[Parallel(n_jobs=-1)]: Done   2 out of   9 | elapsed:   14.8s remaining:   51.9s\n",
      "[Parallel(n_jobs=-1)]: Done   3 out of   9 | elapsed:   15.0s remaining:   29.9s\n",
      "[Parallel(n_jobs=-1)]: Done   4 out of   9 | elapsed:   15.0s remaining:   18.8s\n",
      "[Parallel(n_jobs=-1)]: Done   5 out of   9 | elapsed:   15.3s remaining:   12.3s\n",
      "[Parallel(n_jobs=-1)]: Done   6 out of   9 | elapsed:   19.3s remaining:    9.7s\n",
      "[Parallel(n_jobs=-1)]: Done   7 out of   9 | elapsed:   19.6s remaining:    5.6s\n",
      "[Parallel(n_jobs=-1)]: Done   9 out of   9 | elapsed:   22.4s remaining:    0.0s\n",
      "[Parallel(n_jobs=-1)]: Done   9 out of   9 | elapsed:   22.4s finished\n"
     ]
    },
    {
     "name": "stdout",
     "output_type": "stream",
     "text": [
      "{'clf__selected_model': ('sgd', {})}\n",
      "0.9573945683968903\n"
     ]
    },
    {
     "name": "stderr",
     "output_type": "stream",
     "text": [
      "/home/majestic905/.venvs/ml/lib/python3.5/site-packages/sklearn/linear_model/stochastic_gradient.py:144: FutureWarning: max_iter and tol parameters have been added in SGDClassifier in 0.19. If both are left unset, they default to max_iter=5 and tol=None. If tol is not None, max_iter defaults to max_iter=1000. From 0.21, default max_iter will be 1000, and default tol will be 1e-3.\n",
      "  FutureWarning)\n"
     ]
    }
   ],
   "source": [
    "text_clf = Pipeline([\n",
    "    ('vect', CountVectorizer()),\n",
    "    ('tfidf', TfidfTransformer()),\n",
    "    ('clf', PipelineHelper([\n",
    "        ('bayes', MultinomialNB()),\n",
    "        ('sgd', SGDClassifier()),\n",
    "        ('svc', LinearSVC())\n",
    "    ]))\n",
    "])\n",
    "    \n",
    "param_grid = {\n",
    "    'clf__selected_model': text_clf.named_steps['clf'].generate({})\n",
    "}\n",
    "\n",
    "grid = GridSearchCV(text_clf, param_grid, scoring='roc_auc', cv=3, verbose=10, n_jobs=-1, return_train_score=True)\n",
    "grid.fit(X_train, y_train)\n",
    "\n",
    "print(grid.best_params_)\n",
    "print(grid.best_score_)"
   ]
  },
  {
   "cell_type": "code",
   "execution_count": null,
   "metadata": {},
   "outputs": [],
   "source": []
  },
  {
   "cell_type": "code",
   "execution_count": null,
   "metadata": {},
   "outputs": [],
   "source": []
  },
  {
   "cell_type": "markdown",
   "metadata": {},
   "source": [
    "Функция строит ROC, считает AUC, precision и recall"
   ]
  },
  {
   "cell_type": "code",
   "execution_count": 15,
   "metadata": {},
   "outputs": [],
   "source": [
    "def evaluate(y_true, y_pred_proba):\n",
    "#     y_pred = [int(item[0] <= item[1]) for item in y_pred_proba]\n",
    "#     print(classification_report(y_true, y_pred))\n",
    "\n",
    "#     precision = precision_score(y_true, y_pred)\n",
    "#     recall = recall_score(y_true, y_pred)\n",
    "    auc = roc_auc_score(y_true, y_pred_proba)\n",
    "    \n",
    "    fpr, tpr, thresholds = roc_curve(y_true, y_pred_proba)\n",
    "    curve_roc = np.array([fpr, tpr])\n",
    "    plt.plot(fpr, tpr, label='ROC curve: AUC=%0.3f' % auc, color='darkorange', lw=1)\n",
    "#     plt.title('precision: %0.3f, recall: %0.3f' % (precision, recall))\n",
    "    plt.xlabel('FPR')\n",
    "    plt.ylabel('TPR')\n",
    "    plt.ylim([0.0, 1.02])\n",
    "    plt.xlim([0.0, 1.0])\n",
    "    plt.grid(True)\n",
    "    plt.legend(loc=\"lower right\")\n",
    "#     return auc "
   ]
  },
  {
   "cell_type": "code",
   "execution_count": 16,
   "metadata": {},
   "outputs": [
    {
     "data": {
      "text/plain": [
       "array([ 0.40894031,  0.79568789, -0.47999505, ...,  0.04264136,\n",
       "       -1.57131238, -1.58313803])"
      ]
     },
     "execution_count": 16,
     "metadata": {},
     "output_type": "execute_result"
    }
   ],
   "source": [
    "proba = grid.best_estimator_.predict_proba(X_test)\n",
    "proba"
   ]
  },
  {
   "cell_type": "code",
   "execution_count": 17,
   "metadata": {},
   "outputs": [
    {
     "data": {
      "image/png": "[encoded data removed]",
      "text/plain": [
       "<Figure size 432x288 with 1 Axes>"
      ]
     },
     "metadata": {},
     "output_type": "display_data"
    }
   ],
   "source": [
    "evaluate(y_test, proba)"
   ]
  },
  {
   "cell_type": "code",
   "execution_count": null,
   "metadata": {},
   "outputs": [],
   "source": []
  }
 ],
 "metadata": {
  "kernelspec": {
   "display_name": "Python 3",
   "language": "python",
   "name": "python3"
  },
  "language_info": {
   "codemirror_mode": {
    "name": "ipython",
    "version": 3
   },
   "file_extension": ".py",
   "mimetype": "text/x-python",
   "name": "python",
   "nbconvert_exporter": "python",
   "pygments_lexer": "ipython3",
   "version": "3.5.2"
  }
 },
 "nbformat": 4,
 "nbformat_minor": 2
}
